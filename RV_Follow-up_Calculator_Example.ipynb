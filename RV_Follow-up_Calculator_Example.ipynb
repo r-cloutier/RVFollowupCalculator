{
 "cells": [
  {
   "cell_type": "markdown",
   "metadata": {},
   "source": [
    "# RV Follow-up Calculator: quick example"
   ]
  },
  {
   "cell_type": "code",
   "execution_count": 1,
   "metadata": {
    "collapsed": true
   },
   "outputs": [],
   "source": [
    "import RVFollowupCalculator as rvc\n",
    "%matplotlib inline"
   ]
  },
  {
   "cell_type": "code",
   "execution_count": 2,
   "metadata": {},
   "outputs": [
    {
     "name": "stdout",
     "output_type": "stream",
     "text": [
      "Convolving the Y band stellar spectrum to the instrumental resolution (R = 100000)\n",
      "Masking Y band telluric regions where transmission > 0.98 percent\n",
      "Took 22.2 seconds\n",
      "\n",
      "Convolving the J band stellar spectrum to the instrumental resolution (R = 100000)\n",
      "Masking J band telluric regions where transmission > 0.98 percent\n",
      "Took 31.4 seconds\n",
      "\n",
      "Convolving the H band stellar spectrum to the instrumental resolution (R = 100000)\n",
      "Masking H band telluric regions where transmission > 0.98 percent\n",
      "Took 92.6 seconds\n",
      "\n"
     ]
    }
   ],
   "source": [
    "nRV, texp, tobs = rvc.nRV_calculator(3)"
   ]
  }
 ],
 "metadata": {
  "kernelspec": {
   "display_name": "Python [default]",
   "language": "python",
   "name": "python2"
  },
  "language_info": {
   "codemirror_mode": {
    "name": "ipython",
    "version": 2
   },
   "file_extension": ".py",
   "mimetype": "text/x-python",
   "name": "python",
   "nbconvert_exporter": "python",
   "pygments_lexer": "ipython2",
   "version": "2.7.13"
  }
 },
 "nbformat": 4,
 "nbformat_minor": 2
}
