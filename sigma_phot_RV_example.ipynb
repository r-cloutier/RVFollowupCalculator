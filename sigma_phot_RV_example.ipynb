{
 "cells": [
  {
   "cell_type": "markdown",
   "metadata": {},
   "source": [
    "## Example of computing the photon-noise limited RV precision for a single star with a particular RV spectrograph \n",
    "\n",
    "The following is an example of how to calculate the photon-noise limited RV precision using the formalism from http://adsabs.harvard.edu/abs/2001A%26A...374..733B and the python code outlined in http://adsabs.harvard.edu/abs/2018AJ....156...82C"
   ]
  },
  {
   "cell_type": "code",
   "execution_count": 1,
   "metadata": {
    "scrolled": true
   },
   "outputs": [
    {
     "name": "stderr",
     "output_type": "stream",
     "text": [
      "\n",
      "Bad key \"xtick.labeltop\" on line 358 in\n",
      "/Users/ryancloutier/.matplotlib/matplotlibrc.\n",
      "You probably need to get an updated matplotlibrc file from\n",
      "http://github.com/matplotlib/matplotlib/blob/master/matplotlibrc.template\n",
      "or from the matplotlib source distribution\n"
     ]
    }
   ],
   "source": [
    "from compute_sigmaRV import *"
   ]
  },
  {
   "cell_type": "code",
   "execution_count": 11,
   "metadata": {},
   "outputs": [],
   "source": [
    "# Get an approximate telluric spectrum to mask regions of high contamination. \n",
    "# This may take a few seconds to load but only needs to be done once.\n",
    "wl_telluric, trans_telluric = np.loadtxt('./InputData/tapas_000001.ipac', skiprows=23).T\n",
    "wl_telluric *= 1e-3  # microns\n",
    "\n",
    "\n",
    "def compute_sigRV_phot(band_strs, mags, Teff, logg, Z, vsini, texp, R, aperture, throughput, RVnoisefloor,\n",
    "                       transmission_threshold=.02):\n",
    "    '''\n",
    "    Calculate the photon-noise limited RV precision over the spectrograph's full spectral domain.\n",
    "    '''\n",
    "    if 'V' in band_strs:\n",
    "        centralwl_nm = 555.\n",
    "    elif 'J' in band_strs:\n",
    "        centralwl_nm = 1250.\n",
    "    else:\n",
    "        print band_strs\n",
    "        raise ValueError('One or both of V and J must be in band_strs.')\n",
    "    \n",
    "    # get round values for PHOENIX stellar models\n",
    "    Teffs = np.append(np.arange(23e2,7e3,1e2), np.arange(7e3,121e2,2e2))\n",
    "    Teff_round = Teffs[abs(Teffs-Teff) == np.min(abs(Teffs-Teff))][0]\n",
    "    loggs = np.arange(0, 6.1, .5)\n",
    "    logg_round = loggs[abs(loggs-logg) == np.min(abs(loggs-logg))][0]\n",
    "    Zs = np.append(np.arange(-4,-1,dtype=float), np.arange(-1.5,1.5,.5))\n",
    "    Z_round = Zs[abs(Zs-Z) == np.min(abs(Zs-Z))][0]\n",
    "\n",
    "    # compute sigmaRV in each band for a fixed texp\n",
    "    mags = np.ascontiguousarray(mags)\n",
    "    sigmaRVs, SNRtargets = np.zeros(mags.size), np.zeros(mags.size)\n",
    "    for i in range(sigmaRVs.size):\n",
    "        t0 = time.time()\n",
    "        SNRtargets[i] = get_snr(mags[i], band_strs[i], texp, aperture, throughput, R)\n",
    "        wl, spec = get_reduced_spectrum(Teff_round, logg_round, Z_round, vsini,\n",
    "                                        band_strs[i], R, centralwl_nm*1e-3,\n",
    "                                        SNRtargets[i])\n",
    "        sigmaRVs[i] = compute_sigmaRV(wl, spec, mags[i], band_strs[i], texp,\n",
    "                                      aperture, throughput, R,\n",
    "                                      transmission_threshold, wl_telluric,\n",
    "                                      trans_telluric, SNRtargets[i])\n",
    "\n",
    "    # compute sigmaRV over all bands\n",
    "    sigRV_phot = 1 / np.sqrt(np.sum(1. / sigmaRVs**2))\n",
    "    sigRV_phot = sigRV_phot if sigRV_phot > RVnoisefloor \\\n",
    "                 else float(RVnoisefloor)\n",
    "    return sigmaRVs, sigRV_phot"
   ]
  },
  {
   "cell_type": "markdown",
   "metadata": {},
   "source": [
    "First, define the following parameters of the RV spectrograph (and telescope) used to conduct the RM observations."
   ]
  },
  {
   "cell_type": "code",
   "execution_count": 25,
   "metadata": {},
   "outputs": [],
   "source": [
    "Teff = 4500      # stellar effective temperature in Kelvin\n",
    "logg = 4.5       # stellar surface gravity in dex (cgs) \n",
    "Z = 0            # stellar metallicity [Fe/H] in solar units\n",
    "vsini = .01        # projected stellar rotation velocity in km/s\n",
    "band_strs = ['B','V','R'] # names of spectrograph spectral bands. Must be in ['U','B','V','R','I','Y','J','H','K']"
   ]
  },
  {
   "cell_type": "markdown",
   "metadata": {},
   "source": [
    "Next, define the following stellar parameters for your star. Here I'll use an arbitrary (made up) star as an example."
   ]
  },
  {
   "cell_type": "code",
   "execution_count": 26,
   "metadata": {},
   "outputs": [],
   "source": [
    "texp = 8        # exposure time in seconds\n",
    "R = 5e4          # spectral resolution == lambda / delta_lambda\n",
    "aperture = 1.2     # telescope aperture diameter in meters\n",
    "throughput = .015  # average spectrograph throughput (in [0,1])\n",
    "RVfloor = .01     # RV noise floor in m/s\n",
    "mags = [6.7, 6, 5.6]  # stellar magnitudes for each band in `band_strs'\n",
    "assert len(band_strs) == len(mags)"
   ]
  },
  {
   "cell_type": "markdown",
   "metadata": {},
   "source": [
    "Now we are in a position to compute the photon-noise limited RV precision of our star with our parameterized observational setup. The calculation should only take a few seconds depending on the number of bands and the complexity of the RV information content in those bands."
   ]
  },
  {
   "cell_type": "code",
   "execution_count": 27,
   "metadata": {},
   "outputs": [
    {
     "name": "stdout",
     "output_type": "stream",
     "text": [
      "Convolving the B band stellar spectrum to the instrumental resolution (R = 50000)\n",
      "Masking B band telluric regions where transmission > 0.98 percent\n",
      "Convolving the V band stellar spectrum to the instrumental resolution (R = 50000)\n",
      "Masking V band telluric regions where transmission > 0.98 percent\n",
      "Convolving the R band stellar spectrum to the instrumental resolution (R = 50000)\n",
      "Masking R band telluric regions where transmission > 0.98 percent\n",
      "\n",
      "Photon-noise limited RV precision = 1.862 m/s\n"
     ]
    }
   ],
   "source": [
    "theta = band_strs, mags, Teff, logg, Z, vsini, texp, R, aperture, throughput, RVfloor\n",
    "sigRVs, sigRV = compute_sigRV_phot(*theta)\n",
    "print '\\nPhoton-noise limited RV precision = %.3f m/s'%sigRV"
   ]
  },
  {
   "cell_type": "code",
   "execution_count": 23,
   "metadata": {},
   "outputs": [
    {
     "data": {
      "text/plain": [
       "array([32.8715704 ,  3.22923057,  2.65490106,  2.0686954 ])"
      ]
     },
     "execution_count": 23,
     "metadata": {},
     "output_type": "execute_result"
    }
   ],
   "source": [
    "sigRVs"
   ]
  },
  {
   "cell_type": "code",
   "execution_count": 28,
   "metadata": {},
   "outputs": [
    {
     "data": {
      "text/plain": [
       "852471.3143402723"
      ]
     },
     "execution_count": 28,
     "metadata": {},
     "output_type": "execute_result"
    }
   ],
   "source": [
    "3e8/189/1.862"
   ]
  },
  {
   "cell_type": "code",
   "execution_count": 29,
   "metadata": {},
   "outputs": [
    {
     "data": {
      "text/plain": [
       "1.862000686594133"
      ]
     },
     "execution_count": 29,
     "metadata": {},
     "output_type": "execute_result"
    }
   ],
   "source": [
    "3e8/189/852471."
   ]
  },
  {
   "cell_type": "code",
   "execution_count": null,
   "metadata": {},
   "outputs": [],
   "source": []
  }
 ],
 "metadata": {
  "kernelspec": {
   "display_name": "Python [default]",
   "language": "python",
   "name": "python2"
  },
  "language_info": {
   "codemirror_mode": {
    "name": "ipython",
    "version": 2
   },
   "file_extension": ".py",
   "mimetype": "text/x-python",
   "name": "python",
   "nbconvert_exporter": "python",
   "pygments_lexer": "ipython2",
   "version": "2.7.13"
  }
 },
 "nbformat": 4,
 "nbformat_minor": 2
}
