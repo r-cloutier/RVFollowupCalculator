{
 "cells": [
  {
   "cell_type": "markdown",
   "metadata": {},
   "source": [
    "# Example calculation of the number of RV measurements and observing time using the RVFC\n",
    "\n",
    "The following is an example of calculating the number of RV measurments required to detect a user-defined transiting planet at a desired level of significance and with a user-defined spectrograph using the [Radial Velocity Follow-up Calculator](https://arxiv.org/abs/1807.01263). "
   ]
  },
  {
   "cell_type": "code",
   "execution_count": 1,
   "metadata": {},
   "outputs": [
    {
     "name": "stderr",
     "output_type": "stream",
     "text": [
      "\n",
      "Bad key \"xtick.labeltop\" on line 358 in\n",
      "/Users/ryancloutier/.matplotlib/matplotlibrc.\n",
      "You probably need to get an updated matplotlibrc file from\n",
      "http://github.com/matplotlib/matplotlib/blob/master/matplotlibrc.template\n",
      "or from the matplotlib source distribution\n"
     ]
    }
   ],
   "source": [
    "from RVFollowupCalculator import *\n",
    "from setupRVFCinput import *\n",
    "%matplotlib inline"
   ]
  },
  {
   "cell_type": "code",
   "execution_count": 10,
   "metadata": {},
   "outputs": [],
   "source": [
    "# setup spectrograph input file for NIRPS\n",
    "prefix = 'myexample'\n",
    "min_wl = 980     # lower edge of the spectrograph's spectral range in nm\n",
    "max_wl = 1800    # upper edge of the spectrograph's spectral range in nm\n",
    "R = 1e5          # spectral resolution lambda / delta lambda\n",
    "aperture = 3.6   # effective telescope aperture diameter in meters\n",
    "throughput = .01 # spectrally-averaged instrument throughput (in [0,1])  \n",
    "RVfloor = 1      # RV noise floor in m/s\n",
    "maxtell = .02    # maximum fractional telluric absorption (i.e. mask where atmospheric transmittance is < 1-maxtell)\n",
    "overhead = 5     # overhead to be added to the total observing time in minutes\n",
    "theta = min_wl, max_wl, R, aperture, throughput, RVfloor, maxtell, overhead\n",
    "fname_spec = setup_spectrograph(prefix, *theta)"
   ]
  },
  {
   "cell_type": "code",
   "execution_count": 11,
   "metadata": {},
   "outputs": [],
   "source": [
    "# setup stellar input file (example is GJ 1132)\n",
    "mag = 9.245  # stellar magnitude in either the V or J bands for optical and near-IR spectrographs respectively\n",
    "Ms = .181    # stellar mass in solar masses\n",
    "Rs = .207    # stellar radius in solar radii\n",
    "Teff = 3270  # effective temperature in Kelvin\n",
    "Z = -.12     # log(Fe/H) metallicity in solar units\n",
    "vsini = .1   # projected stellar rotation velocity in km/s\n",
    "prot = 122   # stellar rotation period in days\n",
    "theta = mag, Ms, Rs, Teff, Z, vsini, prot\n",
    "fname_star = setup_star(prefix, *theta)"
   ]
  },
  {
   "cell_type": "code",
   "execution_count": 12,
   "metadata": {},
   "outputs": [],
   "source": [
    "# setup planet input file (example is GJ 1132 b)\n",
    "P = 1.629   # orbital period in days\n",
    "rp = 1.16   # planet radius in Earth radii\n",
    "mp = 1.62   # planet mass in Easrth masses. If unspecified, mp is estimated from rp and the Weiss+Marcy 2014 relation\n",
    "theta = P, rp\n",
    "fname_planet = setup_planet(prefix, *theta, mp=mp)"
   ]
  },
  {
   "cell_type": "code",
   "execution_count": 13,
   "metadata": {},
   "outputs": [],
   "source": [
    "# setup RV noise input file\n",
    "texp = 600      # exposure time in seconds\n",
    "sigphot = None  # RV photon noise in m/s. Is computed from spectrograph and stellar parameters if unspecified\n",
    "sigact = 3      # RV residual rms from stellar activity in m/s. Can be zero.\n",
    "sigplanets = .5 # RV residual rms from additional planets in the system in m/s. Should be zero if no additional planets or additional planet are modelled exactly (<- not really possible)\n",
    "sigeff = None   # effective RV uncertainty in m/s. If specified it by-passes all other RV noise sources\n",
    "fname_sigRV = setup_sigRV(prefix, texp, sigact=sigact, sigplanets=sigplanets)"
   ]
  },
  {
   "cell_type": "markdown",
   "metadata": {},
   "source": [
    "## Compute the number of RV measurements and observing time using the above input parameters "
   ]
  },
  {
   "cell_type": "code",
   "execution_count": null,
   "metadata": {},
   "outputs": [],
   "source": [
    "# setup last parameters\n",
    "Kdetsig = 5   # desired RV semi-amplitude detection significance (i.e. how many sigma?)\n",
    "NGPtrials = 0 # number of calculations to conduct using the GP framework (will take longer). Set to zero for white noise. "
   ]
  },
  {
   "cell_type": "code",
   "execution_count": null,
   "metadata": {},
   "outputs": [],
   "source": [
    "# run the RVFC\n",
    "runGP = NGPtrials > 0\n",
    "kwargs = {'input_planet_fname':fname_planet, 'input_star_fname':fname_star, 'input_spectrograph_fname':fname_spec,\n",
    "         'input_sigRV_fname':fname_sigRV, 'output_fname':fname_out, 'runGP':runGP, 'NGPtrials'}\n",
    "nRV_calculator(Kdetsig, verbose_results=True, **kwargs)"
   ]
  }
 ],
 "metadata": {
  "kernelspec": {
   "display_name": "Python [default]",
   "language": "python",
   "name": "python2"
  },
  "language_info": {
   "codemirror_mode": {
    "name": "ipython",
    "version": 2
   },
   "file_extension": ".py",
   "mimetype": "text/x-python",
   "name": "python",
   "nbconvert_exporter": "python",
   "pygments_lexer": "ipython2",
   "version": "2.7.13"
  }
 },
 "nbformat": 4,
 "nbformat_minor": 2
}
