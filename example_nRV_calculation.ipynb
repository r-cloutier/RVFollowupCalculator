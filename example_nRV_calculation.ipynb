{
 "cells": [
  {
   "cell_type": "markdown",
   "metadata": {},
   "source": [
    "# Example calculation using the RVFC\n",
    "\n",
    "The following is an example of calculating the number of RV measurments (and observing time) required to detect the RV semi-amplitude of a user-defined transiting planet at a desired level of significance and with a user-defined spectrograph using the [Radial Velocity Follow-up Calculator](https://arxiv.org/abs/1807.01263). "
   ]
  },
  {
   "cell_type": "code",
   "execution_count": 1,
   "metadata": {},
   "outputs": [],
   "source": [
    "from RVFollowupCalculator import *\n",
    "from setupRVFCinput import *\n",
    "%matplotlib inline"
   ]
  },
  {
   "cell_type": "code",
   "execution_count": 2,
   "metadata": {},
   "outputs": [],
   "source": [
    "# setup spectrograph input file for NIRPS\n",
    "prefix = 'myexample'\n",
    "min_wl = 980     # lower edge of the spectrograph's spectral range in nm\n",
    "max_wl = 1800    # upper edge of the spectrograph's spectral range in nm\n",
    "R = 1e5          # spectral resolution lambda / delta lambda\n",
    "aperture = 3.6   # effective telescope aperture diameter in meters\n",
    "throughput = .1  # spectrally-averaged instrument throughput (in [0,1])  \n",
    "RVfloor = 1      # RV noise floor in m/s\n",
    "maxtell = .02    # maximum fractional telluric absorption (i.e. mask where atmospheric transmittance is < 1-maxtell)\n",
    "overhead = 5     # overhead to be added to the total observing time in minutes\n",
    "theta = min_wl, max_wl, R, aperture, throughput, RVfloor, maxtell, overhead\n",
    "fname_spec = setup_spectrograph(prefix, *theta)"
   ]
  },
  {
   "cell_type": "code",
   "execution_count": 3,
   "metadata": {},
   "outputs": [],
   "source": [
    "# setup stellar input file (example is GJ 1132)\n",
    "mag = 9.245  # stellar magnitude in either the V or J bands for optical and near-IR spectrographs respectively\n",
    "Ms = .181    # stellar mass in solar masses\n",
    "Rs = .207    # stellar radius in solar radii\n",
    "Teff = 3270  # effective temperature in Kelvin\n",
    "Z = -.12     # log(Fe/H) metallicity in solar units\n",
    "vsini = .1   # projected stellar rotation velocity in km/s\n",
    "prot = 122   # stellar rotation period in days\n",
    "theta = mag, Ms, Rs, Teff, Z, vsini, prot\n",
    "fname_star = setup_star(prefix, *theta)"
   ]
  },
  {
   "cell_type": "code",
   "execution_count": 4,
   "metadata": {},
   "outputs": [],
   "source": [
    "# setup planet input file (example is GJ 1132 b)\n",
    "P = 1.629   # orbital period in days\n",
    "rp = 1.16   # planet radius in Earth radii\n",
    "mp = 1.62   # planet mass in Easrth masses. If unspecified, mp is estimated from rp and the Weiss+Marcy 2014 relation\n",
    "theta = P, rp\n",
    "fname_planet = setup_planet(prefix, *theta, mp=mp)"
   ]
  },
  {
   "cell_type": "code",
   "execution_count": 5,
   "metadata": {},
   "outputs": [],
   "source": [
    "# setup RV noise input file\n",
    "texp = 600      # exposure time in seconds\n",
    "sigphot = None  # RV photon noise in m/s. Is computed from spectrograph and stellar parameters if unspecified\n",
    "sigact = 3      # RV residual rms from stellar activity in m/s. Can be zero.\n",
    "sigplanets = .5 # RV residual rms from additional planets in the system in m/s. Should be zero if no additional planets or additional planet are modelled exactly (<- not really possible)\n",
    "sigeff = None   # effective RV uncertainty in m/s. If specified it by-passes all other RV noise sources\n",
    "fname_sigRV = setup_sigRV(prefix, texp, sigact=sigact, sigplanets=sigplanets)"
   ]
  },
  {
   "cell_type": "markdown",
   "metadata": {},
   "source": [
    "## Compute the number of RV measurements and observing time using the above input parameters "
   ]
  },
  {
   "cell_type": "code",
   "execution_count": 6,
   "metadata": {},
   "outputs": [],
   "source": [
    "# setup last parameters\n",
    "Kdetsig = 3   # desired RV semi-amplitude detection significance (i.e. how many sigma?)\n",
    "NGPtrials = 0 # number of calculations to conduct using the GP framework (will take longer). Set to zero for white noise. "
   ]
  },
  {
   "cell_type": "code",
   "execution_count": 7,
   "metadata": {},
   "outputs": [
    {
     "name": "stdout",
     "output_type": "stream",
     "text": [
      "Computing the photon-noise limited RV precision...\n",
      "\n",
      "Convolving the Y band stellar spectrum to the instrumental resolution (R = 100000)\n",
      "Masking Y band telluric regions where transmittance < 0.98 percent\n",
      "Took 4.8 seconds\n",
      "\n",
      "Convolving the J band stellar spectrum to the instrumental resolution (R = 100000)\n",
      "Masking J band telluric regions where transmittance < 0.98 percent\n",
      "Took 8.4 seconds\n",
      "\n",
      "Convolving the H band stellar spectrum to the instrumental resolution (R = 100000)\n",
      "Masking H band telluric regions where transmittance < 0.98 percent\n",
      "Took 27.7 seconds\n",
      "\n",
      "Computing nRVs...\n",
      "\n",
      "##################################################\n",
      "#\tPlanet parameters:\n",
      "# P  = 1.629 days\n",
      "# rp = 1.16 REarth\n",
      "# mp = 1.62 MEarth\n",
      "# K  = 2.78 m/s\n",
      "\n",
      "#\tStellar parameters:\n",
      "# mags  = 8.942, 9.245, 8.639 (YJH)\n",
      "# Ms    = 0.18 MSun\n",
      "# Rs    = 0.21 RSun\n",
      "# Teff  = 3270 K\n",
      "# vsini = 0.1 km/s\n",
      "\n",
      "#\tSpectrograph parameters:\n",
      "# R           = 100000\n",
      "# Aperture    = 3.6 m\n",
      "# Throughput  = 0.10\n",
      "# Noise floor = 1.00 m/s\n",
      "\n",
      "#\tRV noise parameters:\n",
      "# texp           = 10.0 min\n",
      "# toverhead      = 5.0 min\n",
      "# SNRtarget      = 193.8 \n",
      "# sigRV_photon   = 2.02 m/s\n",
      "# sigRV_activity = 3.00 m/s\n",
      "# sigRV_planets  = 0.50 m/s\n",
      "# sigRV_eff      = 3.79 m/s\n",
      "##################################################\n",
      "\n",
      "#\tResults:  (NGPtrials = 0)\n",
      "# Desired sigK = 0.93 m/s  (3.0 sigma K detection)\n",
      "# Nrv          = 33.3\n",
      "# tobs         = 8.31 hours\n",
      "# tobs         = 1.19 nights\n",
      "# Nrv_GP       = 0.0\n",
      "# tobs_GP      = 0.00 hours\n",
      "# tobs_GP      = 0.00 nights\n",
      "\n"
     ]
    }
   ],
   "source": [
    "# run the RVFC\n",
    "runGP = NGPtrials > 0\n",
    "fname_out = '%s_output'%prefix\n",
    "kwargs = {'input_planet_fname':fname_planet, 'input_star_fname':fname_star, 'input_spectrograph_fname':fname_spec,\n",
    "         'input_sigRV_fname':fname_sigRV, 'output_fname':fname_out, 'runGP':runGP, 'NGPtrials':int(NGPtrials)}\n",
    "self = nRV_calculator(Kdetsig, verbose_results=True, **kwargs)"
   ]
  },
  {
   "cell_type": "code",
   "execution_count": 8,
   "metadata": {},
   "outputs": [],
   "source": [
    "# (optionally) remove the input files we created to keep things clean\n",
    "clean = False\n",
    "if clean: clean_files(prefix)"
   ]
  },
  {
   "cell_type": "markdown",
   "metadata": {},
   "source": [
    "## How to directly access the results via the RVFC object (i.e. self)"
   ]
  },
  {
   "cell_type": "code",
   "execution_count": 9,
   "metadata": {},
   "outputs": [],
   "source": [
    "# you can reload your saved RVFC object via\n",
    "self = loadpickle(fname_out)"
   ]
  },
  {
   "cell_type": "code",
   "execution_count": 10,
   "metadata": {},
   "outputs": [
    {
     "name": "stdout",
     "output_type": "stream",
     "text": [
      "K = 2.785 m/s\n",
      "Desired K uncertainty = 0.928 m/s (3.0 sigma)\n",
      "Number of RV measurements = 33.25\n",
      "Total observing time = 8.314 hours (1.188 nights)\n"
     ]
    }
   ],
   "source": [
    "# all input and output parameters are given as attributes of the RVFC object\n",
    "# for example, let's see what our desired K detection significance is\n",
    "print('K = %.3f m/s'%self.K)\n",
    "print('Desired K uncertainty = %.3f m/s (%.1f sigma)'%(self.sigK_target, self.K/self.sigK_target))\n",
    "\n",
    "# similarly lets see the number of RV measurements from the white noise calculations\n",
    "print('Number of RV measurements = %.2f'%self.nRV)\n",
    "\n",
    "# similarly what's the total observing time from the white noise calculations\n",
    "print('Total observing time = %.3f hours (%.3f nights)'%(self.tobs, self.tobs/7.))\n",
    "\n",
    "# and so..."
   ]
  },
  {
   "cell_type": "code",
   "execution_count": null,
   "metadata": {},
   "outputs": [],
   "source": []
  }
 ],
 "metadata": {
  "kernelspec": {
   "display_name": "Python 3",
   "language": "python",
   "name": "python3"
  },
  "language_info": {
   "codemirror_mode": {
    "name": "ipython",
    "version": 3
   },
   "file_extension": ".py",
   "mimetype": "text/x-python",
   "name": "python",
   "nbconvert_exporter": "python",
   "pygments_lexer": "ipython3",
   "version": "3.8.2"
  }
 },
 "nbformat": 4,
 "nbformat_minor": 2
}
